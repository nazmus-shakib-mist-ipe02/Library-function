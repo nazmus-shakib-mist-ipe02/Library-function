{
 "cells": [
  {
   "cell_type": "code",
   "execution_count": 8,
   "metadata": {},
   "outputs": [
    {
     "data": {
      "text/plain": [
       "array([-0.35714286,  1.92857143])"
      ]
     },
     "execution_count": 8,
     "metadata": {},
     "output_type": "execute_result"
    }
   ],
   "source": [
    "import numpy \n",
    "import statsmodels.api as sm\n",
    "y = numpy.array([1,2,3,4,5,6,7,8,9])\n",
    "X = numpy.array([1,1,2,2,3,3,4,4,5])\n",
    "X = sm.add_constant(X)\n",
    "res_ols = sm.OLS(y, X).fit()\n",
    "\n",
    "res_ols.params\n"
   ]
  }
 ],
 "metadata": {
  "kernelspec": {
   "display_name": "Python 3",
   "language": "python",
   "name": "python3"
  },
  "language_info": {
   "codemirror_mode": {
    "name": "ipython",
    "version": 3
   },
   "file_extension": ".py",
   "mimetype": "text/x-python",
   "name": "python",
   "nbconvert_exporter": "python",
   "pygments_lexer": "ipython3",
   "version": "3.7.0"
  }
 },
 "nbformat": 4,
 "nbformat_minor": 2
}
